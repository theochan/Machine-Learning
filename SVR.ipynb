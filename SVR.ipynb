{
  "nbformat": 4,
  "nbformat_minor": 0,
  "metadata": {
    "colab": {
      "name": "SVR.ipynb",
      "provenance": [],
      "authorship_tag": "ABX9TyPHjT9eEsqdOzDjge/KdtfT",
      "include_colab_link": true
    },
    "kernelspec": {
      "name": "python3",
      "display_name": "Python 3"
    }
  },
  "cells": [
    {
      "cell_type": "markdown",
      "metadata": {
        "id": "view-in-github",
        "colab_type": "text"
      },
      "source": [
        "<a href=\"https://colab.research.google.com/github/theochan/Machine-Learning/blob/master/SVR.ipynb\" target=\"_parent\"><img src=\"https://colab.research.google.com/assets/colab-badge.svg\" alt=\"Open In Colab\"/></a>"
      ]
    },
    {
      "cell_type": "code",
      "metadata": {
        "id": "kJxFGw49vSHG",
        "colab_type": "code",
        "colab": {
          "base_uri": "https://localhost:8080/",
          "height": 54
        },
        "outputId": "2806b081-5de8-4344-8b97-e570ea4c2af9"
      },
      "source": [
        "import numpy as np\n",
        "import pandas as pd\n",
        "import matplotlib.pyplot as plt\n",
        "import seaborn as sns\n",
        "\n",
        "from sklearn.preprocessing import StandardScaler\n",
        "from sklearn.svm import SVR\n",
        "from sklearn.model_selection import train_test_split\n",
        "from sklearn.datasets import load_boston\n",
        "from sklearn.metrics import r2_score\n",
        "\n",
        "sns.set()"
      ],
      "execution_count": 1,
      "outputs": [
        {
          "output_type": "stream",
          "text": [
            "/usr/local/lib/python3.6/dist-packages/statsmodels/tools/_testing.py:19: FutureWarning: pandas.util.testing is deprecated. Use the functions in the public API at pandas.testing instead.\n",
            "  import pandas.util.testing as tm\n"
          ],
          "name": "stderr"
        }
      ]
    },
    {
      "cell_type": "code",
      "metadata": {
        "id": "Gbv8tyeZvlFT",
        "colab_type": "code",
        "colab": {}
      },
      "source": [
        "data = load_boston()\n",
        "dataset = pd.DataFrame(data['data'], columns=data['feature_names'])\n",
        "X = data['data']\n",
        "y = data['target'].reshape(-1,1)"
      ],
      "execution_count": 2,
      "outputs": []
    },
    {
      "cell_type": "markdown",
      "metadata": {
        "id": "KO-lACOSvyei",
        "colab_type": "text"
      },
      "source": [
        "# Apply feature scaling to X and y"
      ]
    },
    {
      "cell_type": "code",
      "metadata": {
        "id": "D2j9INm8vxe7",
        "colab_type": "code",
        "colab": {}
      },
      "source": [
        "X_scaler = StandardScaler()\n",
        "y_scaler = StandardScaler()"
      ],
      "execution_count": 3,
      "outputs": []
    },
    {
      "cell_type": "code",
      "metadata": {
        "id": "WL8xgNY7v8i1",
        "colab_type": "code",
        "colab": {}
      },
      "source": [
        "X_scaled = X_scaler.fit_transform(X)\n",
        "y_scaled = y_scaler.fit_transform(y)"
      ],
      "execution_count": 4,
      "outputs": []
    },
    {
      "cell_type": "code",
      "metadata": {
        "id": "RvqkisBWwEN8",
        "colab_type": "code",
        "colab": {}
      },
      "source": [
        "X_train, X_test, y_train, y_test = train_test_split(X_scaled, y_scaled, test_size=0.2, random_state=11) "
      ],
      "execution_count": 5,
      "outputs": []
    },
    {
      "cell_type": "code",
      "metadata": {
        "id": "FsfYIrAXwnjH",
        "colab_type": "code",
        "colab": {}
      },
      "source": [
        "svr = SVR()"
      ],
      "execution_count": 6,
      "outputs": []
    },
    {
      "cell_type": "code",
      "metadata": {
        "id": "aCu02VmrwsRi",
        "colab_type": "code",
        "colab": {
          "base_uri": "https://localhost:8080/",
          "height": 54
        },
        "outputId": "8f4e02c1-d6a1-455e-8ae1-b68766e70f28"
      },
      "source": [
        "svr.fit(X_train, y_train.reshape(-1,))"
      ],
      "execution_count": 7,
      "outputs": [
        {
          "output_type": "execute_result",
          "data": {
            "text/plain": [
              "SVR(C=1.0, cache_size=200, coef0=0.0, degree=3, epsilon=0.1, gamma='scale',\n",
              "    kernel='rbf', max_iter=-1, shrinking=True, tol=0.001, verbose=False)"
            ]
          },
          "metadata": {
            "tags": []
          },
          "execution_count": 7
        }
      ]
    },
    {
      "cell_type": "code",
      "metadata": {
        "id": "0jEDJG1rwvEk",
        "colab_type": "code",
        "colab": {}
      },
      "source": [
        "y_pred = svr.predict(X_test)"
      ],
      "execution_count": 8,
      "outputs": []
    },
    {
      "cell_type": "code",
      "metadata": {
        "id": "IzRVSiW8w9Jy",
        "colab_type": "code",
        "colab": {
          "base_uri": "https://localhost:8080/",
          "height": 35
        },
        "outputId": "154c5d24-dea0-4e5d-ca54-13818a604210"
      },
      "source": [
        "results = r2_score(y_test, y_pred)\n",
        "results"
      ],
      "execution_count": 9,
      "outputs": [
        {
          "output_type": "execute_result",
          "data": {
            "text/plain": [
              "0.8087793179882952"
            ]
          },
          "metadata": {
            "tags": []
          },
          "execution_count": 9
        }
      ]
    },
    {
      "cell_type": "markdown",
      "metadata": {
        "id": "6u7eyRBcxGE6",
        "colab_type": "text"
      },
      "source": [
        "Slightly better than Polynomial Regression by using SVR with default hyperparameters"
      ]
    },
    {
      "cell_type": "markdown",
      "metadata": {
        "id": "SbLm5i7My-j6",
        "colab_type": "text"
      },
      "source": [
        "# Retest by removing outliers CRIM"
      ]
    },
    {
      "cell_type": "code",
      "metadata": {
        "id": "gbn3r985w_2a",
        "colab_type": "code",
        "colab": {}
      },
      "source": [
        "dataset['target'] = data['target']\n",
        "dataset = dataset[dataset['CRIM'] < 60]\n",
        "X = dataset.iloc[:,:-1].values\n",
        "y = dataset.iloc[:,-1].values"
      ],
      "execution_count": 10,
      "outputs": []
    },
    {
      "cell_type": "code",
      "metadata": {
        "id": "GgKCMNPGzPJO",
        "colab_type": "code",
        "colab": {}
      },
      "source": [
        "X_scaled = X_scaler.fit_transform(X)\n",
        "y_scaled = y_scaler.fit_transform(y.reshape(-1,1))"
      ],
      "execution_count": 11,
      "outputs": []
    },
    {
      "cell_type": "code",
      "metadata": {
        "id": "MVaPCp0bzQS5",
        "colab_type": "code",
        "colab": {}
      },
      "source": [
        "X_train, X_test, y_train, y_test = train_test_split(X_scaled, y_scaled, test_size=0.2, random_state=11) "
      ],
      "execution_count": 12,
      "outputs": []
    },
    {
      "cell_type": "code",
      "metadata": {
        "id": "c2hqMU2UzXQr",
        "colab_type": "code",
        "colab": {
          "base_uri": "https://localhost:8080/",
          "height": 35
        },
        "outputId": "0ba2f64c-462b-4b14-d316-a160a16aed29"
      },
      "source": [
        "svr = SVR()\n",
        "svr.fit(X_train, y_train.reshape(-1,))\n",
        "y_pred = svr.predict(X_test)\n",
        "results = r2_score(y_test, y_pred)\n",
        "results"
      ],
      "execution_count": 13,
      "outputs": [
        {
          "output_type": "execute_result",
          "data": {
            "text/plain": [
              "0.8556361316203537"
            ]
          },
          "metadata": {
            "tags": []
          },
          "execution_count": 13
        }
      ]
    },
    {
      "cell_type": "markdown",
      "metadata": {
        "id": "pMWHSAoLzozh",
        "colab_type": "text"
      },
      "source": [
        "Score improved"
      ]
    },
    {
      "cell_type": "code",
      "metadata": {
        "id": "Q6Ok_AxOzpqj",
        "colab_type": "code",
        "colab": {}
      },
      "source": [
        ""
      ],
      "execution_count": 13,
      "outputs": []
    }
  ]
}